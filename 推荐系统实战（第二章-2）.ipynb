{
 "cells": [
  {
   "cell_type": "markdown",
   "metadata": {},
   "source": [
    "## 基于邻域的算法\n",
    "是推荐系统中最基本的算法  \n",
    "基于邻域的算法分为两大类，一类是基于用户的协同过滤算法，另一类是基于物品的协同过滤算法。\n",
    "\n",
    "### 基于用户的协同过滤算法\n",
    "基于用户的协同过滤算法主要包括两个步骤：\n",
    "（1）找到和目标用户兴趣相似的用户集合\n",
    "（2）找到这个集合中的用户喜欢的，且目标用户没有听说过的物品推荐给目标用户。\n",
    "\n",
    "步骤（1）的关键就是计算两个用户的兴趣相似度。这里，协同过滤算法主要利用行为的相似度计算兴趣的相似度。给定用户u和用户v，令N(u)表示用户u曾经有过正反馈的物品集合，令N(v)为用户v曾经有过正反馈的物品集合。那么，我们可以通过如下的jacceard公式简单地计算u和v的兴趣相似度\n",
    "交/并  \n",
    "或者通过余弦相似度计算  \n",
    "交/sqrt(|N(u)N(v)|)\n"
   ]
  },
  {
   "cell_type": "code",
   "execution_count": 2,
   "metadata": {},
   "outputs": [],
   "source": [
    "import math\n",
    "# 以余弦相似度为例，实现该相似度可以利用如下的伪码：\n",
    "def UserSimilarity(train):\n",
    "    W = dict()\n",
    "    for u in train.keys():\n",
    "        for v in train.keys():\n",
    "            if u == v:\n",
    "                continue\n",
    "            W[u][v] = len(train[u] & train[v])\n",
    "            W[u][v] /= math.sqrt(len(train[u]) * len(train[v]) * 1.0)\n",
    "    return W"
   ]
  },
  {
   "cell_type": "markdown",
   "metadata": {},
   "source": [
    "该代码对两两用户都用余弦相似度计算相似度。这种方法的时间复杂度是O(|U| * |U|)，这在用户数很大时非常耗时。事实上，很多用户相互之间并没有对同样的物品产生过行为，即很多时候N(u)&&N(v)=0.**上面的算法将很多时间浪费在了计算这种用户之间的相似度上**。如果换一个思路，我们可以首先计算出N(u)&&N(v)！=0的用户对，然后去计算。\n",
    "\n",
    "为此，可以首先**建立物品到用户的倒排表**，对于每个物品都保存着对该物品产生过行为的用户列表。令稀疏矩阵C[u][v]=|N(u)&&N(v)|.  \n",
    "那么假设用户u和用户v同时属于倒排表中K个物品对应的用户列表，就有C[u][v]=K. 从而，可以扫描到倒排表中每个物品对应的用户列表，将用户列表中的两两用户对应的C[u][v]加1，最终就可以得到所有用户之间不为0的C[u][v]。"
   ]
  },
  {
   "cell_type": "code",
   "execution_count": 3,
   "metadata": {},
   "outputs": [],
   "source": [
    "def UserSimilarity(train):\n",
    "    # build inverse table for item_users\n",
    "    item_users = dict()\n",
    "    for u, items in train.items():\n",
    "        for i in items.keys():\n",
    "            if i not in item_users:\n",
    "                item_users[i] = set()\n",
    "            item_users.add(u)\n",
    "    \n",
    "    # calculate co-rated items between users\n",
    "    C = dict()\n",
    "    N = dict()\n",
    "    for i, users in item_users.items():\n",
    "        for u in users:\n",
    "            N[u] += 1\n",
    "            for v in users:\n",
    "                if u == v:\n",
    "                    continue\n",
    "                C[u][v] += 1\n",
    "                \n",
    "    # calculate finial similarity matrix W\n",
    "    W = dict()\n",
    "    for u, related_users in C.items():\n",
    "        for v, cuv in related_users.items():\n",
    "            W[u][v] = cuv / math.sqrt(N[u]*N[v])\n",
    "    return W"
   ]
  },
  {
   "cell_type": "markdown",
   "metadata": {},
   "source": [
    "得到用户之间的兴趣相似度后，UserCF算法会给用户推荐和他兴趣最相似的K个用户喜欢的物品。  \n",
    "如下的公式度量了UserCF算法中用户u对物品i的感兴趣程度：\n",
    ">公式不显示 \n",
    "\n",
    "其中，S(u,K)包含和用户u兴趣最接近的K个用户，N(i)是对物品i有过行为的用户集合，Wuv是用户u和用户v的兴趣相似度，Rvi代表用户v对物品i的兴趣，因为使用的是单一行为的隐反馈数据，所以所有的Rvi=1"
   ]
  },
  {
   "cell_type": "code",
   "execution_count": 4,
   "metadata": {},
   "outputs": [],
   "source": [
    "# UserCF推荐算法\n",
    "def Recommend(user, train, W, K):\n",
    "    rank = dict()\n",
    "    interacted_items = train[user]\n",
    "    for v , wuv in sorted(W[user].items, key=itemgetter(1), reverse=True)[0:K]:\n",
    "        for i, rvi in train[v].items:\n",
    "            if i in interacted_items:\n",
    "                continue\n",
    "            rank[i] += wuv * rvi\n",
    "    return rank"
   ]
  },
  {
   "cell_type": "markdown",
   "metadata": {},
   "source": [
    "**用户相似度计算的改进**\n",
    "前面计算用户兴趣相似度的最简单的公式（余弦相似度公式），但这个公式过于粗糙，本节将讨论如何改进该公式来提高UserCF的推荐性能。\n",
    "\n",
    "举个例子，以图书为例，如果两个用户都购买过《新华词典》，这丝毫不能说明他们兴趣相似，因为绝大多数中国人小时候都买过《新华词典》。但如果两个用户都买过《数据挖掘导论》，那可以认为他们的兴趣比较相似，因为只有研究数据挖掘的人才会买这本书。换句话说，两个用户对冷门物品采取同样的行为更能说明他们兴趣的相似度。因此\n",
    "通过1/(log1 + |N(i)|) 来惩罚用户u和用户v共同兴趣列表中热门物品对他们相似度的影响。\n",
    "\n",
    "其实就是这本书要是被越多的用户拥有，把这个书的权重就略微低。\n",
    "\n",
    "将上面的改进的策略，UserCF算法记为User-IIF算法。"
   ]
  },
  {
   "cell_type": "code",
   "execution_count": 5,
   "metadata": {},
   "outputs": [],
   "source": [
    "def UserSimilarity(train):\n",
    "    # build inverse table of item_users\n",
    "    item_users = dict()\n",
    "    for u, items in train.items():\n",
    "        for i in items.keys():\n",
    "            if i not in item_users:\n",
    "                item_users[i] = set()\n",
    "            item_users[i].add(u)\n",
    "            \n",
    "    # calculate co-rated items between users\n",
    "    C = dict()\n",
    "    N = dict()\n",
    "    for i, users in item_users.items():\n",
    "        for u in users:\n",
    "            N[u] += 1\n",
    "            for v in users:\n",
    "                if u == v:\n",
    "                    continue\n",
    "                C[u][v] += 1/math.sqrt(1 + len(users))\n",
    "                \n",
    "    # calculate finial similarity matrix\n",
    "    W = dict()\n",
    "    for u, related_users in C.items():\n",
    "        for v, cuv in related_users.items():\n",
    "            W[u][v] = cuv / math.sqrt(N[u]*N[v])\n",
    "    return W"
   ]
  }
 ],
 "metadata": {
  "kernelspec": {
   "display_name": "Python 3",
   "language": "python",
   "name": "python3"
  },
  "language_info": {
   "codemirror_mode": {
    "name": "ipython",
    "version": 3
   },
   "file_extension": ".py",
   "mimetype": "text/x-python",
   "name": "python",
   "nbconvert_exporter": "python",
   "pygments_lexer": "ipython3",
   "version": "3.7.1"
  }
 },
 "nbformat": 4,
 "nbformat_minor": 2
}
